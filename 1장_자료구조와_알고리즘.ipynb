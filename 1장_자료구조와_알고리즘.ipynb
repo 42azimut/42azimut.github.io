{
  "nbformat": 4,
  "nbformat_minor": 0,
  "metadata": {
    "colab": {
      "name": "1장 자료구조와 알고리즘.ipynb",
      "provenance": [],
      "collapsed_sections": [],
      "include_colab_link": true
    },
    "kernelspec": {
      "name": "python3",
      "display_name": "Python 3"
    }
  },
  "cells": [
    {
      "cell_type": "markdown",
      "metadata": {
        "id": "view-in-github",
        "colab_type": "text"
      },
      "source": [
        "<a href=\"https://colab.research.google.com/github/42azimut/42azimut.github.io/blob/master/1%EC%9E%A5_%EC%9E%90%EB%A3%8C%EA%B5%AC%EC%A1%B0%EC%99%80_%EC%95%8C%EA%B3%A0%EB%A6%AC%EC%A6%98.ipynb\" target=\"_parent\"><img src=\"https://colab.research.google.com/assets/colab-badge.svg\" alt=\"Open In Colab\"/></a>"
      ]
    },
    {
      "cell_type": "markdown",
      "metadata": {
        "id": "opzicsjPYdhp"
      },
      "source": [
        "##실습 1-1\n",
        "###두 수의 합\n",
        "숫자들의 배열이 주어지고 표적 숫자가 주어졌다고 합시다.배열에 주어진 숫자들 중 두 개의 숫자를 더하면 표적 숫자가 되는데요, 이때 어떤 두 수를 더하면 표적숫자가 되는지 찾는 문제를 풀어 봅시다.예를 들어서, [2, 8, 19, 37, 4, 5] 가 배열로 주어지고 12 가 표적으로 주어지면 8,4 를 찾아내시면 됩니다.\n",
        "\n",
        "입력 배열에는 중복되는 수가 없습니다.\n",
        "입력 배열에는 합해서 표적이 되는 어떤 두 수가 반드시 있습니다.\n",
        "출력의 순서는 상관 없습니다. 위 예시의 경우, 8,4 와 4,8은 둘 다 정답으로 인정합니다.\n",
        "수수께끼 같은 느낌도 들죠? 코드의 효율성도 채점합니다. 100점에 도전 해 보세요! 100점을 못 받더라도 걱정하지 마세요. 해당 강의를 강의를 다 듣고 나면 100점을 받을 수 있습니다."
      ]
    },
    {
      "cell_type": "code",
      "metadata": {
        "id": "qg8XEaXLXPci",
        "colab": {
          "base_uri": "https://localhost:8080/",
          "height": 34
        },
        "outputId": "465dc134-9c75-4df9-eb5a-527a05fb3f8a"
      },
      "source": [
        "def twoSum(nums, target):\n",
        "    for n in nums:\n",
        "        if(target - n) in nums:\n",
        "            return n, target-n\n",
        "    return 0,0\n",
        "\n",
        "def main():\n",
        "    print(twoSum([2, 8, 19, 37, 4, 5], 12)) # (4, 8) 혹은 (8, 4)가 리턴되어야 합니다.\n",
        "\n",
        "if __name__ == \"__main__\":\n",
        "    main()"
      ],
      "execution_count": null,
      "outputs": [
        {
          "output_type": "stream",
          "text": [
            "(8, 4)\n"
          ],
          "name": "stdout"
        }
      ]
    },
    {
      "cell_type": "markdown",
      "metadata": {
        "id": "sUEUNIU4ZZsu"
      },
      "source": [
        "그러나  위 코드는 B 등급(80점 -90점 짜리) 코드이다 \n",
        "\n",
        "아래 코드에서 더 효율적으로 100점 짜리 알고리즘을 만들어 보자   ********"
      ]
    },
    {
      "cell_type": "code",
      "metadata": {
        "id": "546BUcwYYVvW",
        "colab": {
          "base_uri": "https://localhost:8080/",
          "height": 34
        },
        "outputId": "16d6950c-5b60-452e-ce0c-b9575504f886"
      },
      "source": [
        "def twoSum(nums, target):\n",
        "  nums.sort()\n",
        "  i = 0\n",
        "  j = len(nums)-1\n",
        "  \n",
        "  while i < j :\n",
        "    sum = nums[i] + nums[j]\n",
        "    if sum == target:\n",
        "      return nums[i], nums[j]\n",
        "    elif sum > target:\n",
        "        j -= 1\n",
        "    else:\n",
        "        i +=1\n",
        "\n",
        "def main():\n",
        "  print(twoSum([2, 8, 19, 37, 4, 5], 12)) # (4, 8) 혹은 (8, 4)가 리턴되어야 합니다.\n",
        "\n",
        "if __name__ == \"__main__\":\n",
        "  main()"
      ],
      "execution_count": null,
      "outputs": [
        {
          "output_type": "stream",
          "text": [
            "(4, 8)\n"
          ],
          "name": "stdout"
        }
      ]
    },
    {
      "cell_type": "markdown",
      "metadata": {
        "id": "qhXHFkvKbKWa"
      },
      "source": [
        "##실습 1-2\n",
        "###가장 큰 두 수의 차\n",
        "\n",
        "0보다 큰 정수들의 배열이 주어졌다고 합시다. 여기서 가능한 모든 서로 다른 두 숫자의 차이를 고려 해 보고, 이중 가장 큰 차이를 반환하는 함수를 적어봅시다. 예를 들어서, [2, 8, 19, 37, 4, 5, 12, 50, 1, 34, 23] 가 입력으로 주어졌을 경우 가장 큰 차이를 내는 숫자쌍은 50-1 = 49 입니다.\n",
        "\n",
        "두 수의 차에 해당하는 값을 반환하면 됩니다. 위 예시의 경우, 49를 반환합니다.\n",
        "양의 값을 반환해야 합니다. 위 예시의 경우 -49가 아니라 49를 반환해야 합니다.\n",
        "배열의 길이는 2보다 크거나 같다고 가정합니다.\n",
        "이 문제에는 여러 종류의 풀이법이 존재합니다. 각 풀이법의 시간 복잡도를 고려하면서 여러가지 방법으로 문제를 풀어 봅시다."
      ]
    },
    {
      "cell_type": "code",
      "metadata": {
        "id": "pDCsCOGobKEr",
        "colab": {
          "base_uri": "https://localhost:8080/",
          "height": 34
        },
        "outputId": "3a0a01df-5d38-4c10-c9b3-dc84cd7dacc0"
      },
      "source": [
        "def maxTwoDiff(nums):\n",
        "    nums.sort()\n",
        "    return nums[-1] - nums[0]\n",
        "\n",
        "def main():\n",
        "    print(maxTwoDiff([2, 8, 19, 37, 4, 5, 12, 50, 1, 34, 23])) # 49가 리턴되어야 합니다.\n",
        "\n",
        "if __name__ == \"__main__\":\n",
        "    main()\n"
      ],
      "execution_count": null,
      "outputs": [
        {
          "output_type": "stream",
          "text": [
            "49\n"
          ],
          "name": "stdout"
        }
      ]
    },
    {
      "cell_type": "markdown",
      "metadata": {
        "id": "iMZlPaFocKR_"
      },
      "source": [
        "그러나 역시 위처럼 풀면 90점 \n",
        "\n",
        "100점 짜리 코드를 아래처럼 쫘보자!!!\n",
        "\n",
        "시간복잡도에 관한 간단히\n",
        "==> max, min 시간 복잡도 = O(N)\n",
        "===> nums.sort()  : O(NlogN)\n"
      ]
    },
    {
      "cell_type": "code",
      "metadata": {
        "id": "cGBUTpsoYVsb",
        "colab": {
          "base_uri": "https://localhost:8080/",
          "height": 34
        },
        "outputId": "843717e3-dc24-4eba-b78f-3cac9f8027ee"
      },
      "source": [
        "def maxTwoDiff(nums):\n",
        "    \n",
        "    return max(nums)-min(nums)\n",
        "\n",
        "def main():\n",
        "    print(maxTwoDiff([2, 8, 19, 37, 4, 5, 12, 50, 1, 34, 23])) # 49가 리턴되어야 합니다.\n",
        "\n",
        "if __name__ == \"__main__\":\n",
        "    main()\n"
      ],
      "execution_count": null,
      "outputs": [
        {
          "output_type": "stream",
          "text": [
            "49\n"
          ],
          "name": "stdout"
        }
      ]
    },
    {
      "cell_type": "markdown",
      "metadata": {
        "id": "reeZ79gbdbeF"
      },
      "source": [
        "##실습 1-3 \n",
        "###자동차 객체\n",
        "\n",
        "Python은 세상의 모든 것을 객체(object)로 바라봅니다.\n",
        "\n",
        "이 문제에는 자동차 객체가 주어져 있는데요, 아직 불완전한 상태입니다.\n",
        "\n",
        "객체에 변수와 함수들을 추가해서 완성 해 봅시다.\n",
        "\n",
        "풀어보세요\n",
        "변수 color를 추가 해 봅시다.\n",
        "함수 speedDown을 추가 해 봅시다.\n",
        "함수 changeColor를 추가 해 봅시다.\n",
        "함수 wheelChange의 내용을 변경 해 봅시다."
      ]
    },
    {
      "cell_type": "code",
      "metadata": {
        "id": "A40YeOGzYVpx",
        "colab": {
          "base_uri": "https://localhost:8080/",
          "height": 87
        },
        "outputId": "6d7595e4-146d-46f4-c389-44c1363ddab6"
      },
      "source": [
        "class Car:\n",
        "    def __init__(self):\n",
        "        self.speed = 0\n",
        "        self.year = 2017\n",
        "        self.wheel = Wheel(\"aluminum\")\n",
        "        # 1. 여기에 새로운 오브젝트 변수, color를 추가 해 주세요.\n",
        "        # 색은 기본적으로 \"white\"로 설정되도록 해 주세요\n",
        "        self.color = \"white\"\n",
        "        \n",
        "    def speedUp(self, addSpeed):\n",
        "        self.speed += addSpeed\n",
        "        \n",
        "    # 2. 여기에 새로운 오브젝트 함수, speedDown을 추가해 주세요\n",
        "    # 변화시키고 싶은 속도량을 입력 받은 후, 그만큼 속도록 감소시키는 일을 하는 함수입니다.\n",
        "    def speedDown(self, subSpeed):\n",
        "        self.speed -= subSpeed\n",
        "    # 3. 여기에 새로운 함수, changeColor를 추가 해 봅시다.\n",
        "    # 변화시키고 싶은 색을 지정하면, 그 색깔로 차를 도색하는 함수입니다.    \n",
        "    def changeColor(self, newColor):\n",
        "        self.color = newColor\n",
        "\n",
        "    def wheelChange(self, newWheelType):\n",
        "        self.wheel = Wheel(newWheelType)\n",
        "        # 4. 객체의 데이터로 다른 객체를 사용 할 수도 있습니다. \n",
        "        # Car 객체는 Wheel 객체를 변수로 가지는데요, \n",
        "        # 여기에는 새 바퀴의 색상을 입력받고(newWheelType), 이를 바탕으로 새로운 Wheel 객체를 만들어서\n",
        "        # 자동차의 wheel 데이터에 할당 하는 함수를 적어 봅시다.\n",
        "    \n",
        "\n",
        "class Wheel:\n",
        "    def __init__(self, newWheelType):\n",
        "        self.wheelType = newWheelType\n",
        "\n",
        "def main():\n",
        "    audi = Car()\n",
        "    print(\"고객님의 차량은 {} 년에 출고되었습니다.\".format(audi.year))\n",
        "    print(\"현재 속도는 {} km/h 입니다.\".format(audi.speed))\n",
        "    audi.speedUp(200)\n",
        "    print(\"변경된 속도는 {} km/h 입니다.\".format(audi.speed))\n",
        "    \n",
        "    randomWheel = Wheel(\"aluminum\")\n",
        "    print(\"바닥에 {} 재질의 바퀴가 떨어져 있습니다.\".format(randomWheel.wheelType))\n",
        "    \n",
        "if __name__ == \"__main__\":\n",
        "    main()\n"
      ],
      "execution_count": null,
      "outputs": [
        {
          "output_type": "stream",
          "text": [
            "고객님의 차량은 2017 년에 출고되었습니다.\n",
            "현재 속도는 0 km/h 입니다.\n",
            "변경된 속도는 200 km/h 입니다.\n",
            "바닥에 aluminum 재질의 바퀴가 떨어져 있습니다.\n"
          ],
          "name": "stdout"
        }
      ]
    },
    {
      "cell_type": "markdown",
      "metadata": {
        "id": "WPtEwJ8ygzdk"
      },
      "source": [
        "\n",
        "##[미션1-1]   \n",
        "###중복된 하나의 숫자 찾아내기\n",
        "숫자들의 배열이 주어집니다. 이 배열은 길이 n을 가지며, 1부터 n-1까지의 숫자로 이루어져있습니다. 모든 숫자가 배열에 단 한번씩만 나타납니다. 그런데, 딱 하나의 수가 배열에 두번 등장합니다. 이 중복되는 숫자를 찾아내어 보세요.\n",
        "\n",
        "예를 들어서, [1, 5, 2, 4, 5, 6, 3] 를 살펴봅시다. 배열의 길이는 7이며, 따라서 1~6까지의 숫자들이 한번씩 등장합니다. 그런데 5만 한번 더 등장했네요.따라서 이 경우에는5를 찾아내면 됩니다."
      ]
    },
    {
      "cell_type": "code",
      "metadata": {
        "id": "bP8oUHVhYVm0",
        "colab": {
          "base_uri": "https://localhost:8080/",
          "height": 34
        },
        "outputId": "97f02771-3085-46f5-9550-523fc70b79d3"
      },
      "source": [
        "def findDuplicate(nums):\n",
        "    return 0\n",
        "\n",
        "def main():\n",
        "    print(findDuplicate([1, 5, 2, 4, 5, 6, 3]))\n",
        "\n",
        "if __name__ == \"__main__\":\n",
        "    main()"
      ],
      "execution_count": null,
      "outputs": [
        {
          "output_type": "stream",
          "text": [
            "0\n"
          ],
          "name": "stdout"
        }
      ]
    },
    {
      "cell_type": "markdown",
      "metadata": {
        "id": "HcNCONIShR5X"
      },
      "source": [
        "\n",
        "##[미션1-2]\n",
        "###가장 큰 부분합 구하기\n",
        "정수들의 리스트가 입력으로 들어옵니다. 이 정수들의 리스트를 일부분만 잘라내어 모두 더했을 때의 값을 부분합이라 부릅니다. 이때 가장 큰 부분합을 구해봅시다.\n",
        "\n",
        "예를 들어, [-10, -7, 5, -7, 10, 5, -2, 17, -25, 1]이 입력으로 들어왔다면 [10, 5, -2, 17]을 모두 더한 30이 정답이 됩니다.\n",
        "\n",
        "※입력에는 최소 하나 이상의 양수가 존재합니다.\n",
        "\n",
        "※이 문제에는 여러 종류의 풀이법이 존재합니다. 각 풀이법의 시간 복잡도를 고려하면서 여러가지 방법으로 문제를 풀어 봅시다."
      ]
    },
    {
      "cell_type": "code",
      "metadata": {
        "id": "N5owOWmlhRfJ",
        "colab": {
          "base_uri": "https://localhost:8080/",
          "height": 34
        },
        "outputId": "93838ac0-4977-46ab-aaef-8f99ca08fbb0"
      },
      "source": [
        "\n",
        "def maxSubArray(nums):\n",
        "    return 0\n",
        "\n",
        "def main():\n",
        "    print(maxSubArray([-10, -7, 5, -7, 10, 5, -2, 17, -25, 1])) # 30이 리턴되어야 합니다\n",
        "\n",
        "if __name__ == \"__main__\":\n",
        "    main()"
      ],
      "execution_count": null,
      "outputs": [
        {
          "output_type": "stream",
          "text": [
            "0\n"
          ],
          "name": "stdout"
        }
      ]
    },
    {
      "cell_type": "markdown",
      "metadata": {
        "id": "A4pQSMcshfLR"
      },
      "source": [
        "##[미션1-3] \n",
        "###1로 만들기\n",
        "어떤 수가 입력으로 들어오면 몇번의 연산을 통해 숫자를 1로 가장 빨리 만들 수 있을지 계산하는 함수를 작성해 봅시다.\n",
        "\n",
        "할 수 있는 연산은 다음과 같으며 어느연산을 먼저 수행하는지에 대한 순서는 없습니다.\n",
        "\n",
        "3의 배수라면 3으로 나눕니다.\n",
        "\n",
        "2의 배수라면 2로 나눕니다.\n",
        "\n",
        "1을 뺍니다.\n",
        "\n",
        "예를 들어 10이 입력되었다면, 10 -> 5 -> 4 -> 2 -> 1의 4번의 과정을 거쳐 1로 만들 수 있습니다.\n",
        "\n",
        "하지만 10 -> 9 -> 3 -> 1의 방법으로 3번의 과정을 거쳐 더 빠르게 1로 만들 수 있습니다.\n",
        "\n",
        "또한 이것이 가장 빠른 방법입니다.\n",
        "\n",
        "이와같이 숫자가 입력되면 가장 빠르게 1로 만드는 연산의 횟수를 출력하는 프로그램을 작성해 봅시다."
      ]
    },
    {
      "cell_type": "code",
      "metadata": {
        "id": "a_50gZEdhwW7"
      },
      "source": [
        "\n",
        "def convertTo1(num):\n",
        "    return 0\n",
        "\n",
        "def main():\n",
        "    print(convertTo1(10))\n",
        "\n",
        "if __name__ == \"__main__\":\n",
        "    main()\n"
      ],
      "execution_count": null,
      "outputs": []
    },
    {
      "cell_type": "code",
      "metadata": {
        "id": "LcVc5WhFhwN9"
      },
      "source": [
        ""
      ],
      "execution_count": null,
      "outputs": []
    }
  ]
}